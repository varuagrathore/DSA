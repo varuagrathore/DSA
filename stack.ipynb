{
 "cells": [
  {
   "cell_type": "code",
   "execution_count": 15,
   "id": "919a08c5-3c8f-4ad1-8e8d-44820690245d",
   "metadata": {},
   "outputs": [
    {
     "name": "stdout",
     "output_type": "stream",
     "text": [
      "current stack: [5, 10, 15]\n",
      "peek: 15\n",
      "Stack Size: 3\n",
      "Pooped: 15\n",
      "Pooped: 10\n",
      "Pooped: 5\n",
      "Pooped: None\n",
      "Pooped: None\n",
      "current stack: [14]\n",
      "current stack: 14\n"
     ]
    }
   ],
   "source": [
    "class Stack:\n",
    "    def __init__(self):\n",
    "        self.items=[]\n",
    "    def push(self,item):\n",
    "        self.items.append(item)\n",
    "    def pop(self):\n",
    "        if not self.is_empty():\n",
    "            return self.items.pop()\n",
    "        else:\n",
    "            return None\n",
    "    def peek(self):\n",
    "        if not self.is_empty():\n",
    "            return self.items[-1]\n",
    "        else:\n",
    "            return None\n",
    "    def is_empty(self):\n",
    "        return len(self.items)==0\n",
    "    def size(self):\n",
    "        return len(self.items)\n",
    "stack=Stack()\n",
    "stack.push(5)\n",
    "stack.push(10)\n",
    "stack.push(15)\n",
    "print(\"current stack:\",stack.items)\n",
    "print(\"peek:\",stack.peek())\n",
    "print(\"Stack Size:\",stack.size())\n",
    "print(\"Pooped:\",stack.pop())\n",
    "print(\"Pooped:\",stack.pop())\n",
    "print(\"Pooped:\",stack.pop())\n",
    "print(\"Pooped:\",stack.pop())\n",
    "print(\"Pooped:\",stack.push(14))\n",
    "print(\"current stack:\",stack.items)\n",
    "print(\"current stack:\",stack.peek())"
   ]
  },
  {
   "cell_type": "markdown",
   "id": "69b73daf-3eb6-43d7-ae53-2a8117b7820a",
   "metadata": {},
   "source": [
    "### 1. Balancing Parentheses\n",
    "A common use of stacks is to check for balanced parentheses in an expression."
   ]
  },
  {
   "cell_type": "code",
   "execution_count": 20,
   "id": "cd933982-a304-41d4-a589-144a3f26e82c",
   "metadata": {},
   "outputs": [],
   "source": [
    "def is_balanced(expression):\n",
    "    stack=Stack()\n",
    "    for char in expression:\n",
    "        if char in \"([{\":\n",
    "            stack.push(char)\n",
    "        elif char in \")]}\":\n",
    "            if stack.is_empty():\n",
    "                return False\n",
    "            top=stack.pop()\n",
    "            if not matches(top,char):\n",
    "                return False\n",
    "    return stack.is_empty()\n",
    "def matches(gsr,ar):\n",
    "    g = \"([{\"\n",
    "    a=\")]}\"\n",
    "    return g.index(gsr)==a.index(ar)\n",
    "    \n"
   ]
  },
  {
   "cell_type": "code",
   "execution_count": 21,
   "id": "7f7935e7-9792-4b30-9603-79d37f57d30c",
   "metadata": {},
   "outputs": [
    {
     "name": "stdout",
     "output_type": "stream",
     "text": [
      "True\n"
     ]
    }
   ],
   "source": [
    "print(is_balanced(\"((()))\"))"
   ]
  },
  {
   "cell_type": "code",
   "execution_count": 22,
   "id": "1cbad8a1-c712-4826-accc-4fdcb9cced22",
   "metadata": {},
   "outputs": [
    {
     "name": "stdout",
     "output_type": "stream",
     "text": [
      "False\n"
     ]
    }
   ],
   "source": [
    "print(is_balanced(\"((())\")) \n"
   ]
  },
  {
   "cell_type": "code",
   "execution_count": 23,
   "id": "ff63789b-e9e5-49c7-af5b-aab8fb4f83ad",
   "metadata": {},
   "outputs": [
    {
     "name": "stdout",
     "output_type": "stream",
     "text": [
      "True\n"
     ]
    }
   ],
   "source": [
    "print(is_balanced(\"{[()]}\"))"
   ]
  },
  {
   "cell_type": "code",
   "execution_count": 24,
   "id": "876a41a0-d73f-4c02-812a-7b625325e674",
   "metadata": {},
   "outputs": [
    {
     "name": "stdout",
     "output_type": "stream",
     "text": [
      "False\n"
     ]
    }
   ],
   "source": [
    "print(is_balanced(\"{[(])}\"))"
   ]
  },
  {
   "cell_type": "markdown",
   "id": "11edf558-1f4a-400a-867f-fbbcae4f9675",
   "metadata": {},
   "source": [
    "### 2. Reverse a String"
   ]
  },
  {
   "cell_type": "code",
   "execution_count": 25,
   "id": "2b59fbd4-4d0a-4aa8-a7ee-8618d53c6aa3",
   "metadata": {},
   "outputs": [],
   "source": [
    "def reverse_string(s):\n",
    "    stack=Stack()\n",
    "    for char in s:\n",
    "        stack.push(char)\n",
    "    reversed_str=\"\"\n",
    "    while not stack.is_empty():\n",
    "        reversed_str +=stack.pop()\n",
    "    return reversed_str\n",
    "\n",
    "    "
   ]
  },
  {
   "cell_type": "code",
   "execution_count": 27,
   "id": "136d7a01-2cbc-40f1-a2da-2bd0efa987f5",
   "metadata": {},
   "outputs": [
    {
     "name": "stdout",
     "output_type": "stream",
     "text": [
      "olleh\n"
     ]
    }
   ],
   "source": [
    "print(reverse_string(\"hello\"))"
   ]
  },
  {
   "cell_type": "markdown",
   "id": "20575272-0e58-4591-9cbe-455cb92a18af",
   "metadata": {},
   "source": [
    "### 3. Evaluate Postfix Expression"
   ]
  },
  {
   "cell_type": "code",
   "execution_count": 34,
   "id": "9b95db67-36a1-4848-adc7-ddca62886a6d",
   "metadata": {},
   "outputs": [],
   "source": [
    "def evaluate_postfix(expression):\n",
    "    stack=Stack()\n",
    "    for char in expression:\n",
    "        if char.isdigit():\n",
    "            stack.push(int(char))\n",
    "        else:\n",
    "            operand2=stack.pop()\n",
    "            operand1=stack.pop()\n",
    "            result = perform_operation(char,operand1,operand2)\n",
    "            stack.push(result)\n",
    "    return stack.pop()\n",
    "\n",
    "def perform_operation(operator,rgs,gsr):\n",
    "    if operator =='+':\n",
    "        return rgs+gsr\n",
    "    if operator =='-':\n",
    "        return rgs-gsr\n",
    "    if operator =='/':\n",
    "        return rgs/gsr\n",
    "    if operator =='*':\n",
    "        return rgs*gsr\n",
    "    \n",
    "        \n",
    "            "
   ]
  },
  {
   "cell_type": "code",
   "execution_count": 35,
   "id": "0e5b0b21-abe7-4301-be38-3f47f615b938",
   "metadata": {},
   "outputs": [
    {
     "name": "stdout",
     "output_type": "stream",
     "text": [
      "-4\n"
     ]
    }
   ],
   "source": [
    "print(evaluate_postfix(\"231*+9-\"))"
   ]
  },
  {
   "cell_type": "markdown",
   "id": "cff03f6e-6042-4cea-b87e-3ca54a34968f",
   "metadata": {},
   "source": [
    "### Custom Stack"
   ]
  },
  {
   "cell_type": "code",
   "execution_count": 44,
   "id": "6ea5a0f1-2bb6-45d6-a0ac-6aab7d72cd9b",
   "metadata": {},
   "outputs": [],
   "source": [
    "class MinStack():\n",
    "    def __init__(self):\n",
    "        self.items = []\n",
    "        self.min_items = []\n",
    "\n",
    "    def push(self,item):\n",
    "        self.items.append(item)\n",
    "        if not self.min_items or item<=self.min_items[-1]:\n",
    "            self.min_items.append(item)\n",
    "\n",
    "    def pop(self):\n",
    "        if not self.is_empty():\n",
    "            item=self.items.pop()\n",
    "            if item == self.min_items[-1]:\n",
    "                self.min_items.pop()\n",
    "            return item\n",
    "        else:\n",
    "            return None\n",
    "\n",
    "    def peek(self):\n",
    "        if not self.is_empty():\n",
    "            return self.items[-1]\n",
    "        else:\n",
    "            return None\n",
    "\n",
    "    def is_empty(self):\n",
    "        return len(self.items)==0\n",
    "\n",
    "    def size(self):\n",
    "        return len(self.items)\n",
    "\n",
    "    def get_min(self):\n",
    "        if not self.is_empty():\n",
    "            return self.min_items[-1]\n",
    "        else:\n",
    "            return None"
   ]
  },
  {
   "cell_type": "code",
   "execution_count": 45,
   "id": "6fb7b459-3ec9-4a60-9914-f368b41f627a",
   "metadata": {},
   "outputs": [
    {
     "name": "stdout",
     "output_type": "stream",
     "text": [
      "3\n",
      "1\n",
      "2\n",
      "3\n"
     ]
    }
   ],
   "source": [
    "min_stack = MinStack()\n",
    "min_stack.push(3)\n",
    "min_stack.push(5)\n",
    "print(min_stack.get_min())  # Output: 3\n",
    "min_stack.push(2)\n",
    "min_stack.push(1)\n",
    "print(min_stack.get_min())  # Output: 1\n",
    "min_stack.pop()\n",
    "print(min_stack.get_min())  # Output: 2\n",
    "min_stack.pop()\n",
    "print(min_stack.get_min())  # Output: 3"
   ]
  },
  {
   "cell_type": "code",
   "execution_count": null,
   "id": "61347de2-9ea4-4267-80d0-c5ac307b85c0",
   "metadata": {},
   "outputs": [],
   "source": []
  }
 ],
 "metadata": {
  "kernelspec": {
   "display_name": "Python 3 (ipykernel)",
   "language": "python",
   "name": "python3"
  },
  "language_info": {
   "codemirror_mode": {
    "name": "ipython",
    "version": 3
   },
   "file_extension": ".py",
   "mimetype": "text/x-python",
   "name": "python",
   "nbconvert_exporter": "python",
   "pygments_lexer": "ipython3",
   "version": "3.11.4"
  }
 },
 "nbformat": 4,
 "nbformat_minor": 5
}
