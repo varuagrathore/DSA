{
 "cells": [
  {
   "cell_type": "markdown",
   "id": "9ebe9565-38dc-42cd-bab2-9bf39e912cb9",
   "metadata": {},
   "source": [
    "1. What is a Singly Linked List?\n",
    "   \n",
    "A singly linked list is a linear data structure where each element is a node. Each node contains data and a reference to the next node in the sequence. It allows for efficient insertion and deletion of elements from any position in the list."
   ]
  },
  {
   "cell_type": "markdown",
   "id": "db0d220f-9eb2-4552-a23a-7ab68a9ffff0",
   "metadata": {},
   "source": [
    "**NODE STRUCTURE**"
   ]
  },
  {
   "cell_type": "code",
   "execution_count": 2,
   "id": "a598366d-88ab-4268-a141-b58c0548540f",
   "metadata": {},
   "outputs": [],
   "source": [
    "class Node:\n",
    "    def __init__(self,data):\n",
    "        self.data = data\n",
    "        self.next = None"
   ]
  },
  {
   "cell_type": "markdown",
   "id": "628914d8-6c7d-4223-a20e-6b0645d44d08",
   "metadata": {},
   "source": [
    "## **Linked List Structure**\n",
    "#### Insertion at the beggining"
   ]
  },
  {
   "cell_type": "code",
   "execution_count": 4,
   "id": "e5674afa-1f46-4765-9b77-cc3ef625ed0c",
   "metadata": {},
   "outputs": [],
   "source": [
    "class SinglyLinkedList:\n",
    "    def __init__(self):\n",
    "        self.head = None\n",
    "\n",
    "    def prepend(self,data):\n",
    "        new_node = Node(data)\n",
    "        new_node.next = self.head\n",
    "        self.head = new_node\n",
    "\n",
    "    def display(self):\n",
    "        current = self.head\n",
    "        while current:\n",
    "            print(current.data,end=\" ->\")\n",
    "            current = current.next\n",
    "        print(\"None\")\n",
    "        \n",
    "        "
   ]
  },
  {
   "cell_type": "markdown",
   "id": "a6d20090-bb26-4545-9dba-9052c53d80cc",
   "metadata": {},
   "source": [
    "#### Insertion at the End"
   ]
  },
  {
   "cell_type": "code",
   "execution_count": 5,
   "id": "6ebc083c-28f4-4461-879c-12243361dbf1",
   "metadata": {},
   "outputs": [],
   "source": [
    "class SinglyLinkedList:\n",
    "    def __init__(self):\n",
    "        self.head = None\n",
    "\n",
    "    def append(self,data):\n",
    "        new_node=Node(data)\n",
    "        if not self.head:\n",
    "            self.head = newnode\n",
    "            return \n",
    "\n",
    "        last_node=self.head\n",
    "        while last_node.next:\n",
    "            last_node = last_node.next\n",
    "        last_node.next=new_node\n",
    "\n",
    "    def display(self):\n",
    "        current = self.head\n",
    "        while current:\n",
    "            print(current.data,end=\"->\")\n",
    "            current = current.next\n",
    "        print(\"None\")"
   ]
  },
  {
   "cell_type": "code",
   "execution_count": 28,
   "id": "13e07854-975c-4b8f-8a61-970f3147ea2d",
   "metadata": {},
   "outputs": [
    {
     "name": "stdout",
     "output_type": "stream",
     "text": [
      "List after insertions:\n",
      "0 -> 1 -> 2 -> 3 -> 5 -> None\n",
      "List after deletions:\n",
      "1 -> 3 -> None\n",
      "Search for 3: True\n",
      "Search for 2: False\n",
      "List after reversal:\n",
      "3 -> 1 -> None\n"
     ]
    }
   ],
   "source": [
    "class Node:\n",
    "    def __init__(self, data=None):\n",
    "        self.data = data\n",
    "        self.next = None\n",
    "\n",
    "class SinglyLinkedList:\n",
    "    def __init__(self):\n",
    "        self.head = None\n",
    "\n",
    "    def append(self, data):\n",
    "        new_node = Node(data)\n",
    "        if not self.head:\n",
    "            self.head = new_node\n",
    "            return\n",
    "        last_node = self.head\n",
    "        while last_node.next:\n",
    "            last_node = last_node.next\n",
    "        last_node.next = new_node\n",
    "\n",
    "    def prepend(self, data):\n",
    "        new_node = Node(data)\n",
    "        new_node.next = self.head\n",
    "        self.head = new_node\n",
    "\n",
    "    def insert_at_position(self, data, position):\n",
    "        new_node = Node(data)\n",
    "        if position == 0:\n",
    "            new_node.next = self.head\n",
    "            self.head = new_node\n",
    "            return\n",
    "        current = self.head\n",
    "        count = 0\n",
    "        while current and count < position - 1:\n",
    "            current = current.next\n",
    "            count += 1\n",
    "        if current is None:\n",
    "            raise Exception(\"Position out of bounds\")\n",
    "        new_node.next = current.next\n",
    "        current.next = new_node\n",
    "\n",
    "    def delete_first(self):\n",
    "        if self.head:\n",
    "            self.head = self.head.next\n",
    "\n",
    "    def delete_last(self):\n",
    "        if not self.head:\n",
    "            return\n",
    "        if not self.head.next:\n",
    "            self.head = None\n",
    "            return\n",
    "        current = self.head\n",
    "        while current.next and current.next.next:\n",
    "            current = current.next\n",
    "        current.next = None\n",
    "\n",
    "    def delete_by_value(self, value):\n",
    "        current = self.head\n",
    "        if current and current.data == value:\n",
    "            self.head = current.next\n",
    "            return\n",
    "        prev = None\n",
    "        while current and current.data != value:\n",
    "            prev = current\n",
    "            current = current.next\n",
    "        if current:\n",
    "            prev.next = current.next\n",
    "\n",
    "    def search(self, key):\n",
    "        current = self.head\n",
    "        while current:\n",
    "            if current.data == key:\n",
    "                return True\n",
    "            current = current.next\n",
    "        return False\n",
    "\n",
    "    def display(self):\n",
    "        current = self.head\n",
    "        while current:\n",
    "            print(current.data, end=\" -> \")\n",
    "            current = current.next\n",
    "        print(\"None\")\n",
    "\n",
    "    def length(self):\n",
    "        count = 0\n",
    "        current = self.head\n",
    "        while current:\n",
    "            count += 1\n",
    "            current = current.next\n",
    "        return count\n",
    "\n",
    "    def reverse(self):\n",
    "        prev = None\n",
    "        current = self.head\n",
    "        while current:\n",
    "            next_node = current.next\n",
    "            current.next = prev\n",
    "            prev = current\n",
    "            current = next_node\n",
    "        self.head = prev\n",
    "\n",
    "# Example usage\n",
    "sll = SinglyLinkedList()\n",
    "\n",
    "# Append elements\n",
    "sll.append(1)\n",
    "sll.append(3)\n",
    "sll.append(5)\n",
    "\n",
    "# Prepend an element\n",
    "sll.prepend(0)\n",
    "\n",
    "# Insert an element at position 2\n",
    "sll.insert_at_position(2, 2)\n",
    "\n",
    "print(\"List after insertions:\")\n",
    "sll.display()  # Output: 0 -> 1 -> 2 -> 3 -> 5 -> None\n",
    "\n",
    "# Delete nodes\n",
    "sll.delete_first()\n",
    "sll.delete_last()\n",
    "sll.delete_by_value(2)\n",
    "\n",
    "print(\"List after deletions:\")\n",
    "sll.display()  # Output: 1 -> 3 -> None\n",
    "\n",
    "# Search for nodes\n",
    "print(\"Search for 3:\", sll.search(3))  # Output: True\n",
    "print(\"Search for 2:\", sll.search(2))  # Output: False\n",
    "\n",
    "# Reverse the list\n",
    "sll.reverse()\n",
    "print(\"List after reversal:\")\n",
    "sll.display()  # Output: 3 -> 1 -> None\n"
   ]
  },
  {
   "cell_type": "code",
   "execution_count": 29,
   "id": "ba3ff681-0ecf-4bdf-8700-17a496b9480f",
   "metadata": {},
   "outputs": [
    {
     "name": "stdout",
     "output_type": "stream",
     "text": [
      "1 -> 3 -> 4 -> None\n",
      "0 -> 1 -> 3 -> 4 -> None\n",
      "0 -> 1 -> 2 -> 3 -> 4 -> None\n"
     ]
    }
   ],
   "source": [
    "# Create a new linked list\n",
    "sll = SinglyLinkedList()\n",
    "\n",
    "# Append elements\n",
    "sll.append(1)\n",
    "sll.append(3)\n",
    "sll.append(4)\n",
    "\n",
    "# Display the list\n",
    "sll.display()  \n",
    "\n",
    "# Prepend an element\n",
    "sll.prepend(0)\n",
    "sll.display()  \n",
    "\n",
    "# Insert an element at a specific position (e.g., position 2)\n",
    "sll.insert_at_position(2, 2)\n",
    "sll.display()  "
   ]
  },
  {
   "cell_type": "markdown",
   "id": "5d1856bc-521f-4c1d-825d-0fcd2263ea4a",
   "metadata": {},
   "source": [
    "# Deletion\n",
    "### Deletion from the Beginning"
   ]
  },
  {
   "cell_type": "code",
   "execution_count": 20,
   "id": "dba07ecb-528f-49f0-97af-f57116f392c0",
   "metadata": {},
   "outputs": [],
   "source": [
    "def delete_first(self):\n",
    "    if self.head:\n",
    "        self.head = self.head.next"
   ]
  },
  {
   "cell_type": "markdown",
   "id": "8aa1ec0d-8f45-47ed-8ee3-ec1bb1159806",
   "metadata": {},
   "source": [
    "### Deletion from the End"
   ]
  },
  {
   "cell_type": "code",
   "execution_count": 21,
   "id": "830fb701-bec3-473c-a78f-91c337c4b355",
   "metadata": {},
   "outputs": [],
   "source": [
    "def delte_last(self):\n",
    "    if not self.head:\n",
    "        return \n",
    "\n",
    "    if not self.head.next:\n",
    "        self.head = None\n",
    "        return \n",
    "    current = self.head\n",
    "    while current.next and current.next.next:\n",
    "        current = current.next\n",
    "    current.next = None\n",
    "    "
   ]
  },
  {
   "cell_type": "markdown",
   "id": "1fb9da90-eb3e-45c6-a108-1882a033547c",
   "metadata": {},
   "source": [
    "### delete_by_value"
   ]
  },
  {
   "cell_type": "code",
   "execution_count": 22,
   "id": "ad4595a4-7577-4e25-89d7-dc41ed863671",
   "metadata": {},
   "outputs": [],
   "source": [
    "def delete_by_value(self,value):\n",
    "    current = self.head\n",
    "\n",
    "    if current and current.data == value:\n",
    "        self.head = current.next\n",
    "        return \n",
    "\n",
    "    prev = None\n",
    "\n",
    "    while current and current.data != value:\n",
    "        prev = current\n",
    "        current = current.next\n",
    "\n",
    "    if current:\n",
    "        prev.next = current.next"
   ]
  },
  {
   "cell_type": "markdown",
   "id": "e169db25-ca18-4b61-a8fc-6a43a8feb5d8",
   "metadata": {},
   "source": [
    "### Traversal"
   ]
  },
  {
   "cell_type": "code",
   "execution_count": 23,
   "id": "21676885-d9b1-44eb-ba0f-05511aa20c7d",
   "metadata": {},
   "outputs": [],
   "source": [
    "def display(self):\n",
    "    current = self.head\n",
    "    while current:\n",
    "        print(current.data, end=\" -> \")\n",
    "        current = current.next\n",
    "    print(\"None\")\n"
   ]
  },
  {
   "cell_type": "markdown",
   "id": "f86abd5e-ab1f-46e7-9a83-e57c60a6b9dd",
   "metadata": {},
   "source": [
    "### Searching"
   ]
  },
  {
   "cell_type": "code",
   "execution_count": 24,
   "id": "0383e913-5fdf-453a-ae30-4f792f235188",
   "metadata": {},
   "outputs": [],
   "source": [
    "def search(self, key):\n",
    "    current = self.head\n",
    "    while current:\n",
    "        if current.data == key:\n",
    "            return True\n",
    "        current = current.next\n",
    "    return False\n"
   ]
  },
  {
   "cell_type": "markdown",
   "id": "b833242a-e774-412c-a757-2a0fd1507192",
   "metadata": {},
   "source": [
    "### Length of the list"
   ]
  },
  {
   "cell_type": "code",
   "execution_count": 25,
   "id": "4c056b33-7d8c-4164-8721-9b70a8176ca6",
   "metadata": {},
   "outputs": [],
   "source": [
    "def length(self):\n",
    "    count = 0\n",
    "    current = self.head\n",
    "    while current:\n",
    "        count += 1\n",
    "        current = current.next\n",
    "    return count\n"
   ]
  },
  {
   "cell_type": "markdown",
   "id": "ceac5593-e940-44fb-b520-81e5c23b3fa3",
   "metadata": {},
   "source": [
    "### Reverse the list "
   ]
  },
  {
   "cell_type": "code",
   "execution_count": 26,
   "id": "6b035c73-be4e-4d47-aa23-53ca7d1aa10d",
   "metadata": {},
   "outputs": [],
   "source": [
    "def reverse(self):\n",
    "    prev = None\n",
    "    current = self.head\n",
    "    while current:\n",
    "        next_node = current.next\n",
    "        current.next = prev\n",
    "        prev = current\n",
    "        current = next_node\n",
    "    self.head = prev\n"
   ]
  },
  {
   "cell_type": "markdown",
   "id": "fbc6ff49-0f5d-4e3e-9716-088658d5b003",
   "metadata": {},
   "source": [
    "### working of code "
   ]
  },
  {
   "cell_type": "code",
   "execution_count": 31,
   "id": "47db68ef-6f5d-4921-8931-95c4704e8385",
   "metadata": {},
   "outputs": [
    {
     "name": "stdout",
     "output_type": "stream",
     "text": [
      "List after insertions:\n",
      "0 -> 1 -> 2 -> 3 -> 5 -> None\n",
      "List after deletions:\n",
      "1 -> 3 -> None\n",
      "Search for 3: True\n",
      "Search for 2: False\n",
      "List after reversal:\n",
      "3 -> 1 -> None\n"
     ]
    }
   ],
   "source": [
    "# Create a new linked list\n",
    "sll = SinglyLinkedList()\n",
    "\n",
    "# Insert nodes\n",
    "sll.append(1)\n",
    "sll.append(3)\n",
    "sll.append(5)\n",
    "sll.prepend(0)\n",
    "sll.insert_at_position(2, 2)\n",
    "\n",
    "# Display the list\n",
    "print(\"List after insertions:\")\n",
    "sll.display()  # Output: 0 -> 1 -> 2 -> 3 -> 5 -> None\n",
    "\n",
    "# Delete nodes\n",
    "sll.delete_first()\n",
    "sll.delete_last()\n",
    "sll.delete_by_value(2)\n",
    "\n",
    "print(\"List after deletions:\")\n",
    "sll.display()  # Output: 1 -> 3 -> None\n",
    "\n",
    "# Search for nodes\n",
    "print(\"Search for 3:\", sll.search(3))  # Output: True\n",
    "print(\"Search for 2:\", sll.search(2))  # Output: False\n",
    "\n",
    "# Reverse the list\n",
    "sll.reverse()\n",
    "print(\"List after reversal:\")\n",
    "sll.display()  # Output: 3 -> 1 -> None\n"
   ]
  },
  {
   "cell_type": "code",
   "execution_count": null,
   "id": "a81e65c0-ac95-456e-bfa9-9d5d6e721dd2",
   "metadata": {},
   "outputs": [],
   "source": []
  }
 ],
 "metadata": {
  "kernelspec": {
   "display_name": "Python 3 (ipykernel)",
   "language": "python",
   "name": "python3"
  },
  "language_info": {
   "codemirror_mode": {
    "name": "ipython",
    "version": 3
   },
   "file_extension": ".py",
   "mimetype": "text/x-python",
   "name": "python",
   "nbconvert_exporter": "python",
   "pygments_lexer": "ipython3",
   "version": "3.11.4"
  }
 },
 "nbformat": 4,
 "nbformat_minor": 5
}
