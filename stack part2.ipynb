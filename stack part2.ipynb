{
 "cells": [
  {
   "cell_type": "markdown",
   "id": "8942bbc0-567d-4b3d-9186-44dd41d9a9fd",
   "metadata": {},
   "source": [
    "### 1. Two Stacks for Queue Implementation"
   ]
  },
  {
   "cell_type": "code",
   "execution_count": 3,
   "id": "1ea03c99",
   "metadata": {},
   "outputs": [],
   "source": [
    "class Stack:\n",
    "    def __init__(self):\n",
    "        self.items=[]\n",
    "    def push(self,item):\n",
    "        self.items.append(item)\n",
    "    def pop(self):\n",
    "        if not self.is_empty():\n",
    "            return self.items.pop()\n",
    "        else:\n",
    "            return None\n",
    "    def peek(self):\n",
    "        if not self.is_empty():\n",
    "            return self.items[-1]\n",
    "        else:\n",
    "            return None\n",
    "    def is_empty(self):\n",
    "        return len(self.items)==0\n",
    "    def size(self):\n",
    "        return len(self.items)"
   ]
  },
  {
   "cell_type": "code",
   "execution_count": 4,
   "id": "878447d9-2998-4006-abe0-4cc7664ebe85",
   "metadata": {},
   "outputs": [],
   "source": [
    "class QueueWithStacks:\n",
    "    def __init__(self):\n",
    "        self.stack1 = Stack()\n",
    "        self.stack2 = Stack()\n",
    "    def enqueue(self,item):\n",
    "        self.stack1.push(item)\n",
    "    def dequeue(self):\n",
    "        if self.stack2.is_empty():\n",
    "            while not self.stack1.is_empty():\n",
    "                self.stack2.push(self.stack1.pop())\n",
    "        return self.stack2.pop()\n",
    "\n",
    "    \n",
    "        "
   ]
  },
  {
   "cell_type": "code",
   "execution_count": 5,
   "id": "598e1f47",
   "metadata": {},
   "outputs": [
    {
     "name": "stdout",
     "output_type": "stream",
     "text": [
      "1\n",
      "2\n"
     ]
    }
   ],
   "source": [
    "# Example usage\n",
    "queue = QueueWithStacks()\n",
    "queue.enqueue(1)\n",
    "queue.enqueue(2)\n",
    "print(queue.dequeue())  # Output: 1\n",
    "print(queue.dequeue())  # Output: 2"
   ]
  },
  {
   "cell_type": "markdown",
   "id": "1e44a4be",
   "metadata": {},
   "source": [
    "### 2. Expression Evaluation"
   ]
  },
  {
   "cell_type": "code",
   "execution_count": 6,
   "id": "ed3265c2",
   "metadata": {},
   "outputs": [],
   "source": [
    "def evaluation(expression):\n",
    "    stack=Stack()\n",
    "    result=[]\n",
    "    precedence = {'+': 1, '-': 1, '*': 2, '/': 2, '^': 3}\n",
    "    for char in expression:\n",
    "        if char.isalnum():\n",
    "            result.append(char)\n",
    "        elif char==\"(\":\n",
    "            stack.push(char)\n",
    "        elif char==\")\":\n",
    "            while not stack.is_empty() and stack.peek()!='(':\n",
    "                result.append(stack.pop())\n",
    "            stack.pop()\n",
    "        else:\n",
    "            while (not stack.is_empty() and stack.peek() !='(' and precedence[char]<=precedence[stack.peek()]):\n",
    "                result.append(stack.pop())\n",
    "            stack.push(char)\n",
    "    while not stack.is_empty():\n",
    "        result.append(stack.pop())\n",
    "    return ''.join(result)\n",
    "            \n",
    "    "
   ]
  },
  {
   "cell_type": "code",
   "execution_count": 7,
   "id": "4569ebed",
   "metadata": {},
   "outputs": [
    {
     "name": "stdout",
     "output_type": "stream",
     "text": [
      "abcd^e-fgh*+^*+i-\n"
     ]
    }
   ],
   "source": [
    "print(evaluation(\"a+b*(c^d-e)^(f+g*h)-i\"))"
   ]
  },
  {
   "cell_type": "markdown",
   "id": "3998673c",
   "metadata": {},
   "source": [
    "### 3. Stock Span Problem"
   ]
  },
  {
   "cell_type": "code",
   "execution_count": 8,
   "id": "8de02345",
   "metadata": {},
   "outputs": [],
   "source": [
    "def calculate_span(prices):\n",
    "    n =len(prices)\n",
    "    span = [0]*n\n",
    "    stack = []\n",
    "    \n",
    "    for i in range(n):\n",
    "        while stack and prices[stack[-1]]<=prices[i]:\n",
    "            stack.pop()\n",
    "        if not stack:\n",
    "            span[i] = i+1\n",
    "        else:\n",
    "            span[i] =i-stack[-1]\n",
    "        stack.append(i)\n",
    "        \n",
    "    return span\n",
    "            "
   ]
  },
  {
   "cell_type": "code",
   "execution_count": 9,
   "id": "2ab1c420",
   "metadata": {},
   "outputs": [
    {
     "name": "stdout",
     "output_type": "stream",
     "text": [
      "[1, 1, 1, 2, 1, 4, 6]\n"
     ]
    }
   ],
   "source": [
    "# Example usage\n",
    "prices = [100, 80, 60, 70, 60, 75, 85]\n",
    "print(calculate_span(prices)) "
   ]
  },
  {
   "cell_type": "markdown",
   "id": "c65406b2",
   "metadata": {},
   "source": [
    "### 4. Next Greater Element"
   ]
  },
  {
   "cell_type": "code",
   "execution_count": 21,
   "id": "883d6935",
   "metadata": {},
   "outputs": [],
   "source": [
    "def NGE(arr):\n",
    "    result = [-1]*len(arr)\n",
    "    stack = []\n",
    "    for i in range(len(arr)):\n",
    "        while stack and arr[stack[-1]]< arr[i]:\n",
    "            index = stack.pop()\n",
    "            result[index] = arr[i]\n",
    "        stack.append(i)\n",
    "    \n",
    "    return result\n",
    "    "
   ]
  },
  {
   "cell_type": "code",
   "execution_count": 22,
   "id": "68f07ccb",
   "metadata": {},
   "outputs": [
    {
     "name": "stdout",
     "output_type": "stream",
     "text": [
      "[5, 25, 25, -1]\n"
     ]
    }
   ],
   "source": [
    "arr = [4, 5, 2, 25]\n",
    "print(NGE(arr))"
   ]
  },
  {
   "cell_type": "markdown",
   "id": "2057258d-aee8-4e83-aea7-c392665f7a2b",
   "metadata": {},
   "source": [
    "### 5. Celebrity Problem"
   ]
  },
  {
   "cell_type": "code",
   "execution_count": null,
   "id": "86f58f5d-3a54-44d1-8958-8afdef01bf6a",
   "metadata": {},
   "outputs": [],
   "source": []
  }
 ],
 "metadata": {
  "kernelspec": {
   "display_name": "Python 3 (ipykernel)",
   "language": "python",
   "name": "python3"
  },
  "language_info": {
   "codemirror_mode": {
    "name": "ipython",
    "version": 3
   },
   "file_extension": ".py",
   "mimetype": "text/x-python",
   "name": "python",
   "nbconvert_exporter": "python",
   "pygments_lexer": "ipython3",
   "version": "3.11.4"
  }
 },
 "nbformat": 4,
 "nbformat_minor": 5
}
