{
 "cells": [
  {
   "cell_type": "markdown",
   "id": "fc5248a9-d59a-4e2f-937b-e3bc792bccd8",
   "metadata": {},
   "source": [
    "## Implementation of queue using list"
   ]
  },
  {
   "cell_type": "code",
   "execution_count": 9,
   "id": "4edb6f34-ae06-4c31-85ec-89923551760e",
   "metadata": {},
   "outputs": [],
   "source": [
    "class Queue:\n",
    "    def __init__(self):\n",
    "        self.items =[]\n",
    "    def enqueue(self,item):\n",
    "        self.items.append(item)\n",
    "    def dequeue(self):\n",
    "        if not self.is_empty():\n",
    "            return self.items.pop(0)\n",
    "        else:\n",
    "            return None\n",
    "    def peek(self):\n",
    "        if not self.is_empty():\n",
    "            return self.items[0]\n",
    "        else:\n",
    "            return None\n",
    "    def is_empty(self):\n",
    "        return len(self.items)==0\n",
    "    def size(self):\n",
    "        return len(self.items)\n",
    "        "
   ]
  },
  {
   "cell_type": "code",
   "execution_count": 12,
   "id": "a64ef253-6ee9-40e4-a1b9-201fef6c862d",
   "metadata": {},
   "outputs": [
    {
     "name": "stdout",
     "output_type": "stream",
     "text": [
      "1\n",
      "2\n",
      "2\n",
      "False\n",
      "1\n",
      "3\n",
      "True\n"
     ]
    }
   ],
   "source": [
    "q = Queue()\n",
    "q.enqueue(1)\n",
    "q.enqueue(2)\n",
    "q.enqueue(3)\n",
    "\n",
    "\n",
    "print(q.dequeue())\n",
    "print(q.peek())\n",
    "print(q.dequeue())\n",
    "print(q.is_empty())\n",
    "print(q.size())\n",
    "print(q.dequeue())\n",
    "print(q.is_empty())"
   ]
  },
  {
   "cell_type": "markdown",
   "id": "269bbcaf-0f05-41ee-a29d-2acf96c8eb55",
   "metadata": {},
   "source": [
    "### Circular Queue"
   ]
  },
  {
   "cell_type": "code",
   "execution_count": 30,
   "id": "6d0ba635-47ae-4348-aaac-7304ca82d104",
   "metadata": {},
   "outputs": [],
   "source": [
    "class CircularQueue:\n",
    "    def __init__(self,size):\n",
    "        self.size=size\n",
    "        self.queue = [None]*size\n",
    "        self.rear = self.front = 0\n",
    "        self.count=0\n",
    "    def enqueue(self,item):\n",
    "        if self.count == self.size:\n",
    "            print(\"Queue is Full\")\n",
    "        else:\n",
    "            self.queue[self.rear] = item\n",
    "            self.rear = (self.rear + 1)%self.size\n",
    "            self.count+=1\n",
    "    def dequeue(self):\n",
    "        if self.count == 0:\n",
    "            print(\"Queue is empty\")\n",
    "        else:\n",
    "            item =self.queue[self.front]\n",
    "            self.queue[self.front] = None\n",
    "            self.front = (self.front+1)%self.size\n",
    "            self.count-=1\n",
    "            return item\n",
    "    def peek(self):\n",
    "        if self.count ==0:\n",
    "            return None\n",
    "        else:\n",
    "            return self.queue[self.front]\n",
    "    def is_empty(self):\n",
    "        return self.count == 0\n",
    "\n",
    "    def current_size(self):\n",
    "        return self.count\n",
    "        "
   ]
  },
  {
   "cell_type": "code",
   "execution_count": 33,
   "id": "1f2dccb3-e070-4d0e-a49d-886dcacc55b4",
   "metadata": {},
   "outputs": [
    {
     "name": "stdout",
     "output_type": "stream",
     "text": [
      "10\n",
      "20\n",
      "4\n"
     ]
    }
   ],
   "source": [
    "cq = CircularQueue(5)\n",
    "cq.enqueue(10)\n",
    "cq.enqueue(20)\n",
    "cq.enqueue(30)\n",
    "cq.enqueue(40)\n",
    "cq.enqueue(50)\n",
    "print(cq.dequeue())\n",
    "print(cq.dequeue())\n",
    "cq.enqueue(60)\n",
    "print(cq.current_size())"
   ]
  },
  {
   "cell_type": "code",
   "execution_count": 32,
   "id": "fc6ad469-0cc7-4c2f-b106-92e802f41c67",
   "metadata": {},
   "outputs": [
    {
     "name": "stdout",
     "output_type": "stream",
     "text": [
      "1\n",
      "2\n",
      "5\n"
     ]
    }
   ],
   "source": [
    "cq = CircularQueue(5)\n",
    "cq.enqueue(1)\n",
    "cq.enqueue(2)\n",
    "cq.enqueue(3)\n",
    "print(cq.dequeue())  # Output: 1\n",
    "cq.enqueue(4)\n",
    "cq.enqueue(5)\n",
    "cq.enqueue(6)  # Queue is full\n",
    "print(cq.peek())  # Output: 2\n",
    "print(cq.current_size())  # Output: 4\n"
   ]
  },
  {
   "cell_type": "markdown",
   "id": "ba41861f-c14a-40e1-98a8-b1c015fe1be8",
   "metadata": {},
   "source": [
    "### Priority Queue"
   ]
  },
  {
   "cell_type": "code",
   "execution_count": 34,
   "id": "e780b3e7-352d-4af7-b5ad-0961e162433c",
   "metadata": {},
   "outputs": [],
   "source": [
    "import heapq\n",
    "\n",
    "class PriorityQueue:\n",
    "    def __init__(self):\n",
    "        self.heap = []\n",
    "\n",
    "    def enqueue(self, item, priority):\n",
    "        heapq.heappush(self.heap, (priority, item))\n",
    "\n",
    "    def dequeue(self):\n",
    "        if self.is_empty():\n",
    "            return None\n",
    "        return heapq.heappop(self.heap)[1]\n",
    "\n",
    "    def peek(self):\n",
    "        if self.is_empty():\n",
    "            return None\n",
    "        return self.heap[0][1]\n",
    "\n",
    "    def is_empty(self):\n",
    "        return len(self.heap) == 0\n"
   ]
  },
  {
   "cell_type": "code",
   "execution_count": 37,
   "id": "74f4c205-6040-4de8-bf3f-fde70fb0e383",
   "metadata": {},
   "outputs": [
    {
     "name": "stdout",
     "output_type": "stream",
     "text": [
      "task1\n",
      "task3\n",
      "task2\n"
     ]
    }
   ],
   "source": [
    "pq = PriorityQueue()\n",
    "pq.enqueue('task1', 1)\n",
    "pq.enqueue('task2', 3)\n",
    "pq.enqueue('task3', 2)\n",
    "print(pq.dequeue()) \n",
    "print(pq.dequeue())\n",
    "print(pq.dequeue())\n",
    "#print(pq.peek())     \n"
   ]
  },
  {
   "cell_type": "code",
   "execution_count": 39,
   "id": "c12cd2ba-a68d-41a9-b1d1-1061af6fc5a8",
   "metadata": {},
   "outputs": [
    {
     "data": {
      "image/png": "[encoded data removed]",
      "text/plain": [
       "<Figure size 640x480 with 1 Axes>"
      ]
     },
     "metadata": {},
     "output_type": "display_data"
    }
   ],
   "source": [
    "import matplotlib.pyplot as plt\n",
    "import numpy as np\n",
    "\n",
    "def plot_heap(heap):\n",
    "    fig, ax = plt.subplots()\n",
    "    n = len(heap)\n",
    "    levels = int(np.ceil(np.log2(n + 1)))  # Height of the tree\n",
    "\n",
    "    # Calculate positions for nodes\n",
    "    x = []\n",
    "    y = []\n",
    "    for level in range(levels):\n",
    "        nodes_on_level = 2 ** level\n",
    "        start_x = (2 ** (levels - level - 1) - 1) / 2\n",
    "        interval = 2 ** (levels - level)\n",
    "        for i in range(nodes_on_level):\n",
    "            x.append(start_x + i * interval)\n",
    "            y.append(-level)\n",
    "\n",
    "    \n",
    "    for i, value in enumerate(heap):\n",
    "        ax.text(x[i], y[i], f'{value[1]} ({value[0]})', ha='center', va='center', bbox=dict(boxstyle=\"round,pad=0.3\", edgecolor='black', facecolor='white'))\n",
    "\n",
    "  \n",
    "    for i in range(n):\n",
    "        left_child = 2 * i + 1\n",
    "        right_child = 2 * i + 2\n",
    "        if left_child < n:\n",
    "            ax.plot([x[i], x[left_child]], [y[i], y[left_child]], 'k-')\n",
    "        if right_child < n:\n",
    "            ax.plot([x[i], x[right_child]], [y[i], y[right_child]], 'k-')\n",
    "\n",
    "    ax.set_xlim(-1, 2 ** (levels - 1))\n",
    "    ax.set_ylim(-levels, 1)\n",
    "    ax.set_aspect('equal')\n",
    "    ax.axis('off')\n",
    "    plt.show()\n",
    "\n",
    "\n",
    "pq = PriorityQueue()\n",
    "pq.enqueue('task1', 1)\n",
    "pq.enqueue('task2', 3)\n",
    "pq.enqueue('task3', 2)\n",
    "\n",
    "plot_heap(pq.heap)\n"
   ]
  },
  {
   "cell_type": "code",
   "execution_count": 1,
   "id": "98886797-0cb8-479d-9bc4-48fa7fc9a24a",
   "metadata": {},
   "outputs": [
    {
     "name": "stdout",
     "output_type": "stream",
     "text": [
      "Produced item-0\n",
      "Consumed item-0\n",
      "Produced item-1\n",
      "Produced item-2Consumed item-1\n",
      "\n",
      "Produced item-3\n",
      "Consumed item-2Produced item-4\n",
      "\n",
      "Produced item-5\n",
      "Consumed item-3\n",
      "Produced item-6\n",
      "Produced item-7\n",
      "Consumed item-4\n",
      "Produced item-8\n",
      "Produced item-9\n",
      "Consumed item-5\n",
      "Consumed item-6\n",
      "Consumed item-7\n",
      "Consumed item-8\n",
      "Consumed item-9\n"
     ]
    }
   ],
   "source": [
    "import threading\n",
    "import queue\n",
    "import time\n",
    "\n",
    "# Create a shared queue\n",
    "buffer = queue.Queue(maxsize=5)  # Buffer with a maximum size of 5\n",
    "\n",
    "# Producer thread\n",
    "def producer():\n",
    "    for i in range(10):\n",
    "        item = f\"item-{i}\"\n",
    "        buffer.put(item)  # Add item to the buffer\n",
    "        print(f\"Produced {item}\")\n",
    "        time.sleep(1)  # Simulate production time\n",
    "\n",
    "# Consumer thread\n",
    "def consumer():\n",
    "    while True:\n",
    "        item = buffer.get()  # Retrieve item from the buffer\n",
    "        if item is None:  # Sentinel value to exit the loop\n",
    "            break\n",
    "        print(f\"Consumed {item}\")\n",
    "        buffer.task_done()  # Signal that the task is done\n",
    "        time.sleep(2)  # Simulate processing time\n",
    "\n",
    "# Create and start threads\n",
    "producer_thread = threading.Thread(target=producer)\n",
    "consumer_thread = threading.Thread(target=consumer)\n",
    "\n",
    "producer_thread.start()\n",
    "consumer_thread.start()\n",
    "\n",
    "# Wait for the producer to finish\n",
    "producer_thread.join()\n",
    "\n",
    "# Send sentinel value to stop the consumer thread\n",
    "buffer.put(None)\n",
    "\n",
    "# Wait for the consumer to finish\n",
    "consumer_thread.join()\n"
   ]
  },
  {
   "cell_type": "code",
   "execution_count": null,
   "id": "84847301-d743-4c8a-a8fb-28ba76811e4d",
   "metadata": {},
   "outputs": [],
   "source": []
  }
 ],
 "metadata": {
  "kernelspec": {
   "display_name": "Python 3 (ipykernel)",
   "language": "python",
   "name": "python3"
  },
  "language_info": {
   "codemirror_mode": {
    "name": "ipython",
    "version": 3
   },
   "file_extension": ".py",
   "mimetype": "text/x-python",
   "name": "python",
   "nbconvert_exporter": "python",
   "pygments_lexer": "ipython3",
   "version": "3.11.4"
  }
 },
 "nbformat": 4,
 "nbformat_minor": 5
}
